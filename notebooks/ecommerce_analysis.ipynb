{
 "cells": [
  {
   "cell_type": "code",
   "execution_count": 6,
   "id": "e11c8255-9a3f-4957-80e1-5009ed9bbf06",
   "metadata": {},
   "outputs": [
    {
     "name": "stdout",
     "output_type": "stream",
     "text": [
      "                 customer_unique_id                          order_id  \\\n",
      "0  7c396fd4830fd04220f754e42b4e5bff  e481f51cbdc54678b7cc49136f2d6af7   \n",
      "1  af07308b275d755c9edb36a90c618231  53cdb2fc8bc7dce0b6741e2150273451   \n",
      "2  3a653a41f6f9fc3d2a113cf8398680e8  47770eb9100c2d0c44946d9cf07ec65d   \n",
      "3  7c142cf63193a1473d2e66489a9ae977  949d5b44dbf5de918fe9c16f97b45f8a   \n",
      "4  72632f0f9dd73dfee390c9b22eb56dd6  ad21c59c0840e6cb83a9ceb5573f8159   \n",
      "\n",
      "  order_status order_purchase_timestamp   price  freight_value  \n",
      "0    delivered      2017-10-02 10:56:33   29.99           8.72  \n",
      "1    delivered      2018-07-24 20:41:37  118.70          22.76  \n",
      "2    delivered      2018-08-08 08:38:49  159.90          19.22  \n",
      "3    delivered      2017-11-18 19:28:06   45.00          27.20  \n",
      "4    delivered      2018-02-13 21:18:39   19.90           8.72  \n",
      "<class 'pandas.core.frame.DataFrame'>\n",
      "RangeIndex: 110197 entries, 0 to 110196\n",
      "Data columns (total 6 columns):\n",
      " #   Column                    Non-Null Count   Dtype  \n",
      "---  ------                    --------------   -----  \n",
      " 0   customer_unique_id        110197 non-null  object \n",
      " 1   order_id                  110197 non-null  object \n",
      " 2   order_status              110197 non-null  object \n",
      " 3   order_purchase_timestamp  110197 non-null  object \n",
      " 4   price                     110197 non-null  float64\n",
      " 5   freight_value             110197 non-null  float64\n",
      "dtypes: float64(2), object(4)\n",
      "memory usage: 5.0+ MB\n",
      "None\n"
     ]
    }
   ],
   "source": [
    "\n",
    "import pandas as pd\n",
    "import sqlalchemy\n",
    "\n",
    "db_path = '../database/ecommerce.db'\n",
    "\n",
    "engine = sqlalchemy.create_engine(f'sqlite:///{db_path}')\n",
    "\n",
    "query = \"\"\"\n",
    "SELECT\n",
    "    c.customer_unique_id,\n",
    "    o.order_id,\n",
    "    o.order_status,\n",
    "    o.order_purchase_timestamp,\n",
    "    oi.price,\n",
    "    oi.freight_value\n",
    "FROM\n",
    "    customers c\n",
    "JOIN\n",
    "    orders o ON c.customer_id = o.customer_id\n",
    "JOIN\n",
    "    order_items oi ON o.order_id = oi.order_id\n",
    "WHERE\n",
    "    o.order_status = 'delivered';\n",
    "\"\"\"\n",
    "\n",
    "# Use pandas to execute the query and load the result into a DataFrame\n",
    "df = pd.read_sql_query(query, engine)\n",
    "\n",
    "# display first 5 rows\n",
    "print(df.head())\n",
    "\n",
    "# displany common info\n",
    "print(df.info())"
   ]
  },
  {
   "cell_type": "code",
   "execution_count": null,
   "id": "b90d717d-214e-4fff-a7f5-44cdd7a5961f",
   "metadata": {},
   "outputs": [],
   "source": []
  }
 ],
 "metadata": {
  "kernelspec": {
   "display_name": "Python 3 (ipykernel)",
   "language": "python",
   "name": "python3"
  },
  "language_info": {
   "codemirror_mode": {
    "name": "ipython",
    "version": 3
   },
   "file_extension": ".py",
   "mimetype": "text/x-python",
   "name": "python",
   "nbconvert_exporter": "python",
   "pygments_lexer": "ipython3",
   "version": "3.13.7"
  }
 },
 "nbformat": 4,
 "nbformat_minor": 5
}
